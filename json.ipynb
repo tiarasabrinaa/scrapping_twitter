{
 "cells": [
  {
   "cell_type": "code",
   "execution_count": null,
   "id": "a5af06c4",
   "metadata": {},
   "outputs": [],
   "source": [
    "import json\n",
    "\n",
    "def convert_netscape_to_json(input_file, output_file):\n",
    "    \"\"\"\n",
    "    Convert Netscape cookie format ke JSON untuk Twikit\n",
    "    \"\"\"\n",
    "    cookies = {}\n",
    "    \n",
    "    with open(input_file, 'r') as f:\n",
    "        for line in f:\n",
    "            # Skip comments dan empty lines\n",
    "            if line.startswith('#') or line.strip() == '':\n",
    "                continue\n",
    "            \n",
    "            # Parse cookie line\n",
    "            parts = line.strip().split('\\t')\n",
    "            if len(parts) >= 7:\n",
    "                # Format: domain, flag, path, secure, expiration, name, value\n",
    "                cookie_name = parts[5]\n",
    "                cookie_value = parts[6]\n",
    "                \n",
    "                # Simpan cookie\n",
    "                cookies[cookie_name] = cookie_value\n",
    "    \n",
    "    # Save as JSON\n",
    "    with open(output_file, 'w') as f:\n",
    "        json.dump(cookies, f, indent=2)\n",
    "    \n",
    "    print(f\"✅ Converted {len(cookies)} cookies\")\n",
    "    print(f\"📁 Saved to: {output_file}\")\n",
    "    \n",
    "    # Verify important cookies exist\n",
    "    important = ['ct0', 'auth_token']\n",
    "    missing = [c for c in important if c not in cookies]\n",
    "    \n",
    "    if missing:\n",
    "        print(f\"⚠️  WARNING: Missing important cookies: {missing}\")\n",
    "    else:\n",
    "        print(f\"✅ All important cookies found: {important}\")\n",
    "\n",
    "if __name__ == \"__main__\":\n",
    "    # Ganti dengan nama file cookies.txt kamu\n",
    "    convert_netscape_to_json(\"cookies.txt\", \"cookies.json\")"
   ]
  }
 ],
 "metadata": {
  "language_info": {
   "name": "python"
  }
 },
 "nbformat": 4,
 "nbformat_minor": 5
}
